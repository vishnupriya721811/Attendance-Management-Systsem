{
  "cells": [
    {
      "cell_type": "markdown",
      "metadata": {
        "id": "view-in-github",
        "colab_type": "text"
      },
      "source": [
        "<a href=\"https://colab.research.google.com/github/vishnupriya721811/Attendance-Management-Systsem/blob/main/Insyde_io_assignment.ipynb\" target=\"_parent\"><img src=\"https://colab.research.google.com/assets/colab-badge.svg\" alt=\"Open In Colab\"/></a>"
      ]
    },
    {
      "cell_type": "markdown",
      "source": [
        "# New Section"
      ],
      "metadata": {
        "id": "XOusawJbtBUx"
      }
    },
    {
      "cell_type": "code",
      "source": [
        "import numpy as np\n",
        "import tensorflow as tf\n",
        "import random\n",
        "import matplotlib.pyplot as plt\n",
        "import seaborn as sns\n",
        "from tensorflow.keras import layers, models\n",
        "from tensorflow.keras.callbacks import EarlyStopping\n",
        "from flask import Flask, request, jsonify\n"
      ],
      "metadata": {
        "id": "NIUv-rQ7qZ8n"
      },
      "execution_count": 1,
      "outputs": []
    },
    {
      "cell_type": "code",
      "source": [
        "# Step 1: Improved dataset generation with spacing constraints\n",
        "def generate_data(num_samples=2000, board_size=(10, 10), num_components=5):\n",
        "    X, y = [], []\n",
        "    for _ in range(num_samples):\n",
        "        obstacles = np.zeros(board_size)\n",
        "\n",
        "        # Improved obstacle generation\n",
        "        num_obstacles = random.randint(3, 7)\n",
        "        for _ in range(num_obstacles):\n",
        "            while True:\n",
        "                ox, oy = random.randint(0, board_size[0]-1), random.randint(0, board_size[1]-1)\n",
        "                if obstacles[ox, oy] == 0:\n",
        "                    obstacles[ox, oy] = 1\n",
        "                    break\n",
        "\n",
        "        # Component placement with spacing constraints\n",
        "        components = []\n",
        "        min_spacing = 2  # Minimum spacing between components\n",
        "        for _ in range(num_components):\n",
        "            while True:\n",
        "                cx, cy = random.uniform(0, board_size[0]), random.uniform(0, board_size[1])\n",
        "                valid = True\n",
        "                for comp in components:\n",
        "                    if np.linalg.norm(np.array([cx, cy]) - np.array(comp)) < min_spacing:\n",
        "                        valid = False\n",
        "                        break\n",
        "                if valid and obstacles[int(cx), int(cy)] == 0:\n",
        "                    components.append([cx, cy])\n",
        "                    break\n",
        "\n",
        "        X.append(obstacles)\n",
        "        y.append(np.array(components).flatten())\n",
        "    return np.array(X), np.array(y)\n"
      ],
      "metadata": {
        "id": "TofDEN1MqZ_I"
      },
      "execution_count": null,
      "outputs": []
    },
    {
      "cell_type": "code",
      "source": [
        "# Step 2: Enhanced model with CNN layers for spatial data\n",
        "X, y = generate_data()\n",
        "X = X.reshape(X.shape[0], 10, 10, 1)  # Reshape for CNN\n",
        "\n",
        "y = y / 10.0  # Normalize positions\n",
        "\n",
        "model = models.Sequential([\n",
        "    layers.Conv2D(32, kernel_size=(3, 3), activation='relu', input_shape=(10, 10, 1)),\n",
        "    layers.MaxPooling2D((2, 2)),\n",
        "    layers.Conv2D(64, (3, 3), activation='relu'),\n",
        "    layers.Flatten(),\n",
        "    layers.Dense(128, activation='relu'),\n",
        "    layers.Dropout(0.3),\n",
        "    layers.Dense(y.shape[1])  # Output layer for component positions\n",
        "])\n",
        "\n",
        "model.compile(optimizer='adam', loss='mse', metrics=['mae'])\n",
        "\n",
        "early_stopping = EarlyStopping(monitor='val_loss', patience=10, restore_best_weights=True)\n",
        "\n",
        "history = model.fit(X, y, epochs=100, batch_size=32, validation_split=0.1, callbacks=[early_stopping])"
      ],
      "metadata": {
        "id": "kJwqQXqNqaCW",
        "colab": {
          "base_uri": "https://localhost:8080/"
        },
        "outputId": "84c445fc-1fde-40e9-dc94-cf19c882fa55"
      },
      "execution_count": 3,
      "outputs": [
        {
          "output_type": "stream",
          "name": "stderr",
          "text": [
            "/usr/local/lib/python3.11/dist-packages/keras/src/layers/convolutional/base_conv.py:107: UserWarning: Do not pass an `input_shape`/`input_dim` argument to a layer. When using Sequential models, prefer using an `Input(shape)` object as the first layer in the model instead.\n",
            "  super().__init__(activity_regularizer=activity_regularizer, **kwargs)\n"
          ]
        },
        {
          "output_type": "stream",
          "name": "stdout",
          "text": [
            "Epoch 1/100\n",
            "\u001b[1m57/57\u001b[0m \u001b[32m━━━━━━━━━━━━━━━━━━━━\u001b[0m\u001b[37m\u001b[0m \u001b[1m3s\u001b[0m 10ms/step - loss: 0.1841 - mae: 0.3510 - val_loss: 0.0895 - val_mae: 0.2583\n",
            "Epoch 2/100\n",
            "\u001b[1m57/57\u001b[0m \u001b[32m━━━━━━━━━━━━━━━━━━━━\u001b[0m\u001b[37m\u001b[0m \u001b[1m1s\u001b[0m 7ms/step - loss: 0.0989 - mae: 0.2665 - val_loss: 0.0887 - val_mae: 0.2578\n",
            "Epoch 3/100\n",
            "\u001b[1m57/57\u001b[0m \u001b[32m━━━━━━━━━━━━━━━━━━━━\u001b[0m\u001b[37m\u001b[0m \u001b[1m1s\u001b[0m 7ms/step - loss: 0.0948 - mae: 0.2643 - val_loss: 0.0870 - val_mae: 0.2542\n",
            "Epoch 4/100\n",
            "\u001b[1m57/57\u001b[0m \u001b[32m━━━━━━━━━━━━━━━━━━━━\u001b[0m\u001b[37m\u001b[0m \u001b[1m0s\u001b[0m 7ms/step - loss: 0.0926 - mae: 0.2610 - val_loss: 0.0863 - val_mae: 0.2541\n",
            "Epoch 5/100\n",
            "\u001b[1m57/57\u001b[0m \u001b[32m━━━━━━━━━━━━━━━━━━━━\u001b[0m\u001b[37m\u001b[0m \u001b[1m1s\u001b[0m 7ms/step - loss: 0.0908 - mae: 0.2589 - val_loss: 0.0870 - val_mae: 0.2555\n",
            "Epoch 6/100\n",
            "\u001b[1m57/57\u001b[0m \u001b[32m━━━━━━━━━━━━━━━━━━━━\u001b[0m\u001b[37m\u001b[0m \u001b[1m0s\u001b[0m 6ms/step - loss: 0.0905 - mae: 0.2589 - val_loss: 0.0873 - val_mae: 0.2559\n",
            "Epoch 7/100\n",
            "\u001b[1m57/57\u001b[0m \u001b[32m━━━━━━━━━━━━━━━━━━━━\u001b[0m\u001b[37m\u001b[0m \u001b[1m1s\u001b[0m 7ms/step - loss: 0.0901 - mae: 0.2585 - val_loss: 0.0861 - val_mae: 0.2535\n",
            "Epoch 8/100\n",
            "\u001b[1m57/57\u001b[0m \u001b[32m━━━━━━━━━━━━━━━━━━━━\u001b[0m\u001b[37m\u001b[0m \u001b[1m1s\u001b[0m 7ms/step - loss: 0.0896 - mae: 0.2578 - val_loss: 0.0870 - val_mae: 0.2549\n",
            "Epoch 9/100\n",
            "\u001b[1m57/57\u001b[0m \u001b[32m━━━━━━━━━━━━━━━━━━━━\u001b[0m\u001b[37m\u001b[0m \u001b[1m0s\u001b[0m 7ms/step - loss: 0.0877 - mae: 0.2557 - val_loss: 0.0874 - val_mae: 0.2562\n",
            "Epoch 10/100\n",
            "\u001b[1m57/57\u001b[0m \u001b[32m━━━━━━━━━━━━━━━━━━━━\u001b[0m\u001b[37m\u001b[0m \u001b[1m1s\u001b[0m 7ms/step - loss: 0.0873 - mae: 0.2543 - val_loss: 0.0882 - val_mae: 0.2570\n",
            "Epoch 11/100\n",
            "\u001b[1m57/57\u001b[0m \u001b[32m━━━━━━━━━━━━━━━━━━━━\u001b[0m\u001b[37m\u001b[0m \u001b[1m0s\u001b[0m 7ms/step - loss: 0.0856 - mae: 0.2518 - val_loss: 0.0880 - val_mae: 0.2566\n",
            "Epoch 12/100\n",
            "\u001b[1m57/57\u001b[0m \u001b[32m━━━━━━━━━━━━━━━━━━━━\u001b[0m\u001b[37m\u001b[0m \u001b[1m1s\u001b[0m 12ms/step - loss: 0.0864 - mae: 0.2532 - val_loss: 0.0877 - val_mae: 0.2561\n",
            "Epoch 13/100\n",
            "\u001b[1m57/57\u001b[0m \u001b[32m━━━━━━━━━━━━━━━━━━━━\u001b[0m\u001b[37m\u001b[0m \u001b[1m1s\u001b[0m 14ms/step - loss: 0.0853 - mae: 0.2511 - val_loss: 0.0887 - val_mae: 0.2570\n",
            "Epoch 14/100\n",
            "\u001b[1m57/57\u001b[0m \u001b[32m━━━━━━━━━━━━━━━━━━━━\u001b[0m\u001b[37m\u001b[0m \u001b[1m1s\u001b[0m 7ms/step - loss: 0.0844 - mae: 0.2501 - val_loss: 0.0884 - val_mae: 0.2565\n",
            "Epoch 15/100\n",
            "\u001b[1m57/57\u001b[0m \u001b[32m━━━━━━━━━━━━━━━━━━━━\u001b[0m\u001b[37m\u001b[0m \u001b[1m1s\u001b[0m 7ms/step - loss: 0.0844 - mae: 0.2492 - val_loss: 0.0882 - val_mae: 0.2565\n",
            "Epoch 16/100\n",
            "\u001b[1m57/57\u001b[0m \u001b[32m━━━━━━━━━━━━━━━━━━━━\u001b[0m\u001b[37m\u001b[0m \u001b[1m0s\u001b[0m 6ms/step - loss: 0.0836 - mae: 0.2478 - val_loss: 0.0893 - val_mae: 0.2577\n",
            "Epoch 17/100\n",
            "\u001b[1m57/57\u001b[0m \u001b[32m━━━━━━━━━━━━━━━━━━━━\u001b[0m\u001b[37m\u001b[0m \u001b[1m1s\u001b[0m 7ms/step - loss: 0.0814 - mae: 0.2446 - val_loss: 0.0890 - val_mae: 0.2576\n"
          ]
        }
      ]
    },
    {
      "cell_type": "code",
      "source": [
        "# Step 3: Deployment with Flask\n",
        "app = Flask(__name__)\n",
        "\n",
        "@app.route('/predict', methods=['POST'])\n",
        "def predict():\n",
        "    data = request.json['obstacles']\n",
        "    data = np.array(data).reshape(1, 10, 10, 1)\n",
        "    predicted = model.predict(data).reshape(-1, 2) * 10\n",
        "    return jsonify({\"predicted_positions\": predicted.tolist()})"
      ],
      "metadata": {
        "id": "Ng3-EfnRqaFw"
      },
      "execution_count": 5,
      "outputs": []
    },
    {
      "cell_type": "code",
      "source": [
        "# Step 4: Enhanced visualization\n",
        "def visualize_board(obstacles, predicted):\n",
        "    plt.figure(figsize=(6, 6))\n",
        "    sns.heatmap(obstacles, cmap='Greys', cbar=False, linewidths=0.5, linecolor='black', square=True)\n",
        "    plt.scatter(predicted[:, 0], predicted[:, 1], color='red', marker='o', label='Components', s=100)\n",
        "    plt.xticks(np.arange(0, 10, 1))\n",
        "    plt.yticks(np.arange(0, 10, 1))\n",
        "    plt.grid(True, which='both', linestyle='--', linewidth=0.5)\n",
        "    plt.legend()\n",
        "    plt.title(\"Optimized PCB Component Placement\")\n",
        "    plt.show()\n"
      ],
      "metadata": {
        "id": "6gTdq2sDtqnF"
      },
      "execution_count": 7,
      "outputs": []
    },
    {
      "cell_type": "code",
      "source": [
        "# Step 5: Test visualization\n",
        "X_test, _ = generate_data(1)\n",
        "predicted = model.predict(X_test.reshape(1, 10, 10, 1)).reshape(-1, 2) * 10\n",
        "visualize_board(X_test[0], predicted)\n",
        "\n",
        "if __name__ == '__main__':\n",
        "    app.run(debug=True)"
      ],
      "metadata": {
        "id": "HdfXvNpDvkPT",
        "outputId": "ac7bd0b5-0bb5-4510-cbf0-11c170c73de1",
        "colab": {
          "base_uri": "https://localhost:8080/",
          "height": 643
        }
      },
      "execution_count": null,
      "outputs": [
        {
          "metadata": {
            "tags": null
          },
          "name": "stdout",
          "output_type": "stream",
          "text": [
            "\u001b[1m1/1\u001b[0m \u001b[32m━━━━━━━━━━━━━━━━━━━━\u001b[0m\u001b[37m\u001b[0m \u001b[1m0s\u001b[0m 42ms/step\n"
          ]
        },
        {
          "data": {
            "image/png": "[encoded data removed]",
            "text/plain": [
              "<Figure size 600x600 with 1 Axes>"
            ]
          },
          "metadata": {},
          "output_type": "display_data"
        },
        {
          "metadata": {
            "tags": null
          },
          "name": "stdout",
          "output_type": "stream",
          "text": [
            " * Serving Flask app '__main__'\n",
            " * Debug mode: on\n"
          ]
        },
        {
          "metadata": {
            "tags": null
          },
          "name": "stderr",
          "output_type": "stream",
          "text": [
            "INFO:werkzeug:\u001b[31m\u001b[1mWARNING: This is a development server. Do not use it in a production deployment. Use a production WSGI server instead.\u001b[0m\n",
            " * Running on http://127.0.0.1:5000\n",
            "INFO:werkzeug:\u001b[33mPress CTRL+C to quit\u001b[0m\n",
            "INFO:werkzeug: * Restarting with stat\n"
          ]
        }
      ]
    }
  ],
  "metadata": {
    "colab": {
      "provenance": [],
      "include_colab_link": true
    },
    "kernelspec": {
      "display_name": "Python 3",
      "name": "python3"
    }
  },
  "nbformat": 4,
  "nbformat_minor": 0
}